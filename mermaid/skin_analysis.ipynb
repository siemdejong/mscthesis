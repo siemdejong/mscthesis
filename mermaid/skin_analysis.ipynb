{
 "cells": [
  {
   "cell_type": "code",
   "execution_count": null,
   "metadata": {
    "dotnet_interactive": {
     "language": "mermaid"
    },
    "polyglot_notebook": {
     "kernelName": "mermaid"
    }
   },
   "outputs": [],
   "source": [
    "flowchart LR;\n",
    "\n",
    "    A[Stress-strain curves]\n",
    "\n",
    "    subgraph pred [predictor pre-selection]\n",
    "        p1[Exponential]\n",
    "        p2[PCA]\n",
    "        p3[Logistic]\n",
    "    end\n",
    "\n",
    "    best-fit[best fit]\n",
    "\n",
    "    pred --> best-fit\n",
    "\n",
    "    subgraph hparam [hparam opt]\n",
    "        direction TB\n",
    "        hb1[Hyperband 1]\n",
    "        hb2[Hyperband 2]\n",
    "        hb3[Hyperband 3]\n",
    "        hb4[Hyperband 4]\n",
    "    end\n",
    "\n",
    "\n",
    "    train[Training]\n",
    "\n",
    "    XAI[XAI]\n",
    "\n",
    "    A --> p1\n",
    "    A --> p2\n",
    "    A --> p3\n",
    "\n",
    "    best-fit --> hb\n",
    "    %% best-fit --> hb2\n",
    "    %%best-fit --> hb3\n",
    "    %%best-fit --> hb4\n",
    "    \n",
    "    hparam -->|best configuration| train\n",
    "\n",
    "    train -->|trained model| XAI"
   ]
  },
  {
   "cell_type": "code",
   "execution_count": null,
   "metadata": {
    "dotnet_interactive": {
     "language": "mermaid"
    },
    "polyglot_notebook": {
     "kernelName": "mermaid"
    }
   },
   "outputs": [],
   "source": [
    "stateDiagram-v2\n",
    "    [*]: Initial model\n",
    "    hparam_opt: Hyperparameter optimization\n",
    "    [*] --> hparam_opt\n",
    "\n",
    "    state hparam_opt {\n",
    "        [*]: Initial model\n",
    "        trained_1: Trained 1\n",
    "        [*] --> trained_1\n",
    "        --\n",
    "        [*]: Initial model\n",
    "        trained_2: Trained 2\n",
    "        [*] --> trained_2\n",
    "        --\n",
    "        [*]: Initial model\n",
    "        trained_3: Trained 3\n",
    "        [*] --> trained_3\n",
    "        --\n",
    "        [*]: Initial model\n",
    "        trained_4: Trained 4\n",
    "        [*] --> trained_4\n",
    "    }\n",
    "\n",
    "    hparam_opt --> Trained: Pick the best model\n",
    "\n",
    "    Trained --> Ensembled: Pick the best performing models of the last k cycles"
   ]
  },
  {
   "cell_type": "code",
   "execution_count": null,
   "metadata": {
    "dotnet_interactive": {
     "language": "mermaid"
    },
    "polyglot_notebook": {
     "kernelName": "mermaid"
    }
   },
   "outputs": [],
   "source": [
    "%%{init: {'theme':'default'}}%%\n",
    "\n",
    "flowchart LR\n",
    "    %% nodes\n",
    "\n",
    "    curves[(Stress-stretch curves)]\n",
    "\n",
    "    subgraph predictor_pre_selection[Predictor pre-selection]\n",
    "        exp(Exponential)\n",
    "        pca(PCA)\n",
    "        logistic(Logistic)\n",
    "        best_fit{Best fit}\n",
    "    end\n",
    "\n",
    "\n",
    "    images[(Images)]\n",
    "\n",
    "    subgraph hparam_search[Hyperparameter search]\n",
    "        study1[Hyperband 1]\n",
    "        study2[Hyperband 2]\n",
    "        study3[Hyperband 3]\n",
    "        study4[Hyperband 4]\n",
    "        best_config{Best configuration}\n",
    "    end\n",
    "\n",
    "    subgraph training[Training]\n",
    "        train[Train model]\n",
    "        ensemble[Snapshot ensembling]\n",
    "    end\n",
    "\n",
    "    test[Test model]\n",
    "\n",
    "    subgraph xai[XAI]\n",
    "        direction LR\n",
    "        ig[Integrated gradients]\n",
    "        occ[Occlusion]\n",
    "        why{Why?}\n",
    "    end\n",
    "\n",
    "    %% Connections\n",
    "\n",
    "    %% curves --> exp & pca & logistic\n",
    "    curves --> predictor_pre_selection\n",
    "    exp & pca & logistic --> best_fit\n",
    "    %% best_fit --> study1 & study2 & study3 & study4\n",
    "    best_fit --> hparam_search\n",
    "    %% images --> study1 & study2 & study3 & study4\n",
    "    images --> hparam_search\n",
    "    study1 & study2 & study3 & study4 --> best_config\n",
    "    best_config --> train\n",
    "    train --> ensemble\n",
    "    ensemble --> test\n",
    "    test --> xai\n",
    "    ig & occ --> why"
   ]
  },
  {
   "cell_type": "code",
   "execution_count": null,
   "metadata": {
    "dotnet_interactive": {
     "language": "mermaid"
    },
    "polyglot_notebook": {
     "kernelName": "mermaid"
    }
   },
   "outputs": [],
   "source": []
  }
 ],
 "metadata": {
  "kernelspec": {
   "display_name": ".NET (C#)",
   "language": "C#",
   "name": ".net-csharp"
  },
  "polyglot_notebook": {
   "kernelInfo": {
    "defaultKernelName": "csharp",
    "items": [
     {
      "aliases": [
       "c#",
       "C#"
      ],
      "languageName": "C#",
      "name": "csharp"
     },
     {
      "aliases": [],
      "languageName": "KQL",
      "name": "kql"
     },
     {
      "aliases": [
       "frontend"
      ],
      "name": "vscode"
     },
     {
      "aliases": [],
      "name": ".NET"
     },
     {
      "aliases": [
       "f#",
       "F#"
      ],
      "languageName": "F#",
      "name": "fsharp"
     },
     {
      "aliases": [],
      "languageName": "HTML",
      "name": "html"
     },
     {
      "aliases": [
       "js"
      ],
      "languageName": "JavaScript",
      "name": "javascript"
     },
     {
      "aliases": [],
      "languageName": "Mermaid",
      "name": "mermaid"
     },
     {
      "aliases": [
       "powershell"
      ],
      "languageName": "PowerShell",
      "name": "pwsh"
     },
     {
      "aliases": [],
      "languageName": "SQL",
      "name": "sql"
     },
     {
      "aliases": [],
      "name": "value"
     },
     {
      "aliases": [],
      "name": "webview"
     }
    ]
   }
  }
 },
 "nbformat": 4,
 "nbformat_minor": 2
}
